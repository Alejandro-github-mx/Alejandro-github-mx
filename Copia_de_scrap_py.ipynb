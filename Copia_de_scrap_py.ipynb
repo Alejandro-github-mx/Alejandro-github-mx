{
  "nbformat": 4,
  "nbformat_minor": 0,
  "metadata": {
    "colab": {
      "name": "Copia de scrap.py",
      "provenance": [],
      "collapsed_sections": [],
      "authorship_tag": "ABX9TyMwosnyTD9LHUHOnoFv52wT",
      "include_colab_link": true
    },
    "kernelspec": {
      "name": "python3",
      "display_name": "Python 3"
    },
    "language_info": {
      "name": "python"
    }
  },
  "cells": [
    {
      "cell_type": "markdown",
      "metadata": {
        "id": "view-in-github",
        "colab_type": "text"
      },
      "source": [
        "<a href=\"https://colab.research.google.com/github/Alejandro-github-mx/Alejandro-github-mx/blob/main/Copia_de_scrap_py.ipynb\" target=\"_parent\"><img src=\"https://colab.research.google.com/assets/colab-badge.svg\" alt=\"Open In Colab\"/></a>"
      ]
    },
    {
      "cell_type": "code",
      "source": [
        "!pip install youtube-comment-scraper-python"
      ],
      "metadata": {
        "colab": {
          "base_uri": "https://localhost:8080/"
        },
        "id": "_m2ret4SQ9C4",
        "outputId": "643530bf-d65a-452e-8c66-a1d0f998c20b"
      },
      "execution_count": 1,
      "outputs": [
        {
          "output_type": "stream",
          "name": "stdout",
          "text": [
            "Looking in indexes: https://pypi.org/simple, https://us-python.pkg.dev/colab-wheels/public/simple/\n",
            "Collecting youtube-comment-scraper-python\n",
            "  Downloading youtube-comment-scraper-python-1.0.0.tar.gz (2.6 kB)\n",
            "Requirement already satisfied: requests in /usr/local/lib/python3.7/dist-packages (from youtube-comment-scraper-python) (2.23.0)\n",
            "Collecting bot-studio\n",
            "  Downloading bot_studio-1.3.9.tar.gz (55.0 MB)\n",
            "\u001b[K     |████████████████████████████████| 55.0 MB 1.3 MB/s \n",
            "\u001b[?25hRequirement already satisfied: tqdm in /usr/local/lib/python3.7/dist-packages (from bot-studio->youtube-comment-scraper-python) (4.64.0)\n",
            "Requirement already satisfied: certifi>=2017.4.17 in /usr/local/lib/python3.7/dist-packages (from requests->youtube-comment-scraper-python) (2022.5.18.1)\n",
            "Requirement already satisfied: urllib3!=1.25.0,!=1.25.1,<1.26,>=1.21.1 in /usr/local/lib/python3.7/dist-packages (from requests->youtube-comment-scraper-python) (1.24.3)\n",
            "Requirement already satisfied: chardet<4,>=3.0.2 in /usr/local/lib/python3.7/dist-packages (from requests->youtube-comment-scraper-python) (3.0.4)\n",
            "Requirement already satisfied: idna<3,>=2.5 in /usr/local/lib/python3.7/dist-packages (from requests->youtube-comment-scraper-python) (2.10)\n",
            "Building wheels for collected packages: youtube-comment-scraper-python, bot-studio\n",
            "  Building wheel for youtube-comment-scraper-python (setup.py) ... \u001b[?25l\u001b[?25hdone\n",
            "  Created wheel for youtube-comment-scraper-python: filename=youtube_comment_scraper_python-1.0.0-py3-none-any.whl size=2499 sha256=141d957351623c50affb1847b7f43c1bc066128681229e5c01aa01fc8b0b59b3\n",
            "  Stored in directory: /root/.cache/pip/wheels/7e/c9/5c/b1245c37f5b724b9026a5002ab5a6c6040367ab1f8e4701c80\n",
            "  Building wheel for bot-studio (setup.py) ... \u001b[?25l\u001b[?25hdone\n",
            "  Created wheel for bot-studio: filename=bot_studio-1.3.9-py3-none-any.whl size=55001079 sha256=1728acc2d3ba71969d5089ac4770deff5833167a1fbbbdf3675b7db54e91bd83\n",
            "  Stored in directory: /root/.cache/pip/wheels/b2/ce/a3/d7f1e982c71c3587392c01bd4ee3f24a03a6837f5c465a81fc\n",
            "Successfully built youtube-comment-scraper-python bot-studio\n",
            "Installing collected packages: bot-studio, youtube-comment-scraper-python\n",
            "Successfully installed bot-studio-1.3.9 youtube-comment-scraper-python-1.0.0\n"
          ]
        }
      ]
    },
    {
      "cell_type": "code",
      "source": [
        "from youtube_comment_scraper_python import *\n",
        "import pandas as pd"
      ],
      "metadata": {
        "colab": {
          "base_uri": "https://localhost:8080/"
        },
        "id": "4t7naWULRi62",
        "outputId": "5c79f182-2aeb-4ed9-c54b-489ea6af2c4b"
      },
      "execution_count": 2,
      "outputs": [
        {
          "output_type": "stream",
          "name": "stdout",
          "text": [
            "It currently works on windows only\n",
            "It currently works on windows only\n"
          ]
        }
      ]
    },
    {
      "cell_type": "code",
      "source": [
        "link = input(\"Youtube links: \")\n",
        "saved = input(\"Output name: \")\n",
        "youtube.open(link)\n",
        "response = youtube.video_comments()\n",
        "data = response(['body'])\n",
        "\n",
        "df = pd.DataFrame(data)\n",
        "df.to_csv(saved)"
      ],
      "metadata": {
        "id": "0i4u1cxSRm43",
        "colab": {
          "base_uri": "https://localhost:8080/",
          "height": 309
        },
        "outputId": "c4724c65-04e1-41d7-b071-d5d4f964f4dd"
      },
      "execution_count": 3,
      "outputs": [
        {
          "output_type": "stream",
          "name": "stdout",
          "text": [
            "Youtube links: https://www.youtube.com/watch?v=KergCRF51iw&list=WL&index=5\n",
            "Output name: hackers.csv\n",
            "It currently works on windows only\n",
            "It currently works on windows only\n"
          ]
        },
        {
          "output_type": "error",
          "ename": "TypeError",
          "evalue": "ignored",
          "traceback": [
            "\u001b[0;31m---------------------------------------------------------------------------\u001b[0m",
            "\u001b[0;31mTypeError\u001b[0m                                 Traceback (most recent call last)",
            "\u001b[0;32m<ipython-input-3-14eaada88166>\u001b[0m in \u001b[0;36m<module>\u001b[0;34m()\u001b[0m\n\u001b[1;32m      3\u001b[0m \u001b[0myoutube\u001b[0m\u001b[0;34m.\u001b[0m\u001b[0mopen\u001b[0m\u001b[0;34m(\u001b[0m\u001b[0mlink\u001b[0m\u001b[0;34m)\u001b[0m\u001b[0;34m\u001b[0m\u001b[0;34m\u001b[0m\u001b[0m\n\u001b[1;32m      4\u001b[0m \u001b[0mresponse\u001b[0m \u001b[0;34m=\u001b[0m \u001b[0myoutube\u001b[0m\u001b[0;34m.\u001b[0m\u001b[0mvideo_comments\u001b[0m\u001b[0;34m(\u001b[0m\u001b[0;34m)\u001b[0m\u001b[0;34m\u001b[0m\u001b[0;34m\u001b[0m\u001b[0m\n\u001b[0;32m----> 5\u001b[0;31m \u001b[0mdata\u001b[0m \u001b[0;34m=\u001b[0m \u001b[0mresponse\u001b[0m\u001b[0;34m(\u001b[0m\u001b[0;34m[\u001b[0m\u001b[0;34m'body'\u001b[0m\u001b[0;34m]\u001b[0m\u001b[0;34m)\u001b[0m\u001b[0;34m\u001b[0m\u001b[0;34m\u001b[0m\u001b[0m\n\u001b[0m\u001b[1;32m      6\u001b[0m \u001b[0;34m\u001b[0m\u001b[0m\n\u001b[1;32m      7\u001b[0m \u001b[0mdf\u001b[0m \u001b[0;34m=\u001b[0m \u001b[0mpd\u001b[0m\u001b[0;34m.\u001b[0m\u001b[0mDataFrame\u001b[0m\u001b[0;34m(\u001b[0m\u001b[0mdata\u001b[0m\u001b[0;34m)\u001b[0m\u001b[0;34m\u001b[0m\u001b[0;34m\u001b[0m\u001b[0m\n",
            "\u001b[0;31mTypeError\u001b[0m: 'NoneType' object is not callable"
          ]
        }
      ]
    },
    {
      "cell_type": "code",
      "source": [
        "youtube.open(\"https://www.youtube.com/watch?v=C5duQyX7Gec\")\n",
        "response=youtube.video_comments()\n",
        "data=response['body']\n",
        "#data=[{\"Comment\": \"This planet belongs to all of us \", \"UserLink\": \"https://www.youtube.com/channel/UCpH24tSZnFGAECI_ZCa7jJQ\", \"user\": \"Mohd Haris\", \"Time\": \"14 hours ago\", \"Likes\": \"23\"}]"
      ],
      "metadata": {
        "id": "P1X_9JmMVNW6"
      },
      "execution_count": null,
      "outputs": []
    }
  ]
}